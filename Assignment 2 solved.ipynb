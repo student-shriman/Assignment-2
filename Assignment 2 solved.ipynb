{
 "cells": [
  {
   "cell_type": "markdown",
   "metadata": {},
   "source": [
    "    ############   #########   Inueron Technology - Machine Learning Deployment   ############   #########"
   ]
  },
  {
   "cell_type": "markdown",
   "metadata": {},
   "source": [
    "       #############   ##########    Assignment - 2    ############     ##############"
   ]
  },
  {
   "cell_type": "markdown",
   "metadata": {},
   "source": [
    "<img src=\"assignment.png\">"
   ]
  },
  {
   "cell_type": "markdown",
   "metadata": {},
   "source": [
    "        ###########    ############    Assignment - 1   ###########    ##############  \n",
    "      \n",
    " (1)  Create a pattern using Nested for loop in python.\n",
    "    \n",
    "        \n",
    "        *\n",
    "        * *\n",
    "        * * *\n",
    "        * * * *\n",
    "        * * * * *\n",
    "        * * * * \n",
    "        * * *\n",
    "        * *\n",
    "        *"
   ]
  },
  {
   "cell_type": "code",
   "execution_count": 8,
   "metadata": {},
   "outputs": [
    {
     "name": "stdout",
     "output_type": "stream",
     "text": [
      "* \r\n",
      "* * \r\n",
      "* * * \r\n",
      "* * * * \r\n",
      "* * * * * \r\n",
      "* * * * \r\n",
      "* * * \r\n",
      "* * \r\n",
      "* \r\n"
     ]
    }
   ],
   "source": [
    "# Python program to make a pattern using Nested for loops\n",
    "\n",
    "# Defining a function for pattern\n",
    "def pattern(n):\n",
    "    \n",
    "    # Making an outer loop for handling no. of rows\n",
    "    for i in range(0, n):\n",
    "        \n",
    "        # making an inner loop for columns\n",
    "        for j in range(0, i + 1):\n",
    "            \n",
    "            \n",
    "            print(\"* \", end=\"\")\n",
    "        \n",
    "        print(\"\\r\")\n",
    "      \n",
    "    # making another outer loop for left rows\n",
    "    for i in range(n-1, 0 , -1):\n",
    "        \n",
    "        # Making an inner loop for columns\n",
    "        for j in range(0, i):\n",
    "            \n",
    "            print(\"* \", end=\"\")\n",
    "        \n",
    "        print(\"\\r\")\n",
    " \n",
    "\n",
    "# Drawing the pattern\n",
    "pattern(5)"
   ]
  },
  {
   "cell_type": "markdown",
   "metadata": {},
   "source": [
    "(2)  Write a Python program to reverse a word after accepting the input from the user.\n",
    "    \n",
    "       Sample Output:\n",
    "            \n",
    "        Input word: Ineuron        Output word:  norueni"
   ]
  },
  {
   "cell_type": "code",
   "execution_count": 7,
   "metadata": {},
   "outputs": [
    {
     "name": "stdout",
     "output_type": "stream",
     "text": [
      "Enter a word: Ineuron\n",
      " Word in reversed order is :  noruenI\n"
     ]
    }
   ],
   "source": [
    "# Taking input from user\n",
    "word = input(\"Enter a word: \")\n",
    "\n",
    "# Reversing the word\n",
    "reversed_word = word[::-1]\n",
    "\n",
    "# Printing the reversed word\n",
    "print (\" Word in reversed order is : \", reversed_word)"
   ]
  }
 ],
 "metadata": {
  "kernelspec": {
   "display_name": "Python 3",
   "language": "python",
   "name": "python3"
  },
  "language_info": {
   "codemirror_mode": {
    "name": "ipython",
    "version": 3
   },
   "file_extension": ".py",
   "mimetype": "text/x-python",
   "name": "python",
   "nbconvert_exporter": "python",
   "pygments_lexer": "ipython3",
   "version": "3.7.6"
  }
 },
 "nbformat": 4,
 "nbformat_minor": 4
}
